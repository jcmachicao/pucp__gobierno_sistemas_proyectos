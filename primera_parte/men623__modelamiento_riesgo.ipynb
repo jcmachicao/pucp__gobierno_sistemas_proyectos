{
  "nbformat": 4,
  "nbformat_minor": 0,
  "metadata": {
    "colab": {
      "provenance": [],
      "authorship_tag": "ABX9TyNmqbh8iib2mFV3GInaP6TN",
      "include_colab_link": true
    },
    "kernelspec": {
      "name": "python3",
      "display_name": "Python 3"
    },
    "language_info": {
      "name": "python"
    }
  },
  "cells": [
    {
      "cell_type": "markdown",
      "metadata": {
        "id": "view-in-github",
        "colab_type": "text"
      },
      "source": [
        "<a href=\"https://colab.research.google.com/github/jcmachicao/pucp__gobierno_sistemas_proyectos/blob/main/men623__modelamiento_riesgo.ipynb\" target=\"_parent\"><img src=\"https://colab.research.google.com/assets/colab-badge.svg\" alt=\"Open In Colab\"/></a>"
      ]
    },
    {
      "cell_type": "markdown",
      "source": [
        "MEN623 PUCP\n",
        "# Ejemplo de Modelamiento Alternativo de Riesgo"
      ],
      "metadata": {
        "id": "OKvHSRkWJ5t5"
      }
    },
    {
      "cell_type": "code",
      "execution_count": 1,
      "metadata": {
        "colab": {
          "base_uri": "https://localhost:8080/"
        },
        "id": "tsCmL_9_J4aR",
        "outputId": "07280c28-908c-4cf3-eba1-820829fc9f6f"
      },
      "outputs": [
        {
          "output_type": "stream",
          "name": "stdout",
          "text": [
            "Análisis de Riesgo de Pérdida de Energía en Parque Eólico\n",
            "-----------------------------------------------------------\n",
            "Venta potencial de energía: 120000 MWh\n",
            "Producción neta estimada: 100000 MWh\n",
            "Índice de interferencia aerodinámica: 1.15\n",
            "Riesgo calculado: 1.38\n",
            "→ Riesgo alto: posible incumplimiento de generación.\n"
          ]
        }
      ],
      "source": [
        "# Parámetros del modelo\n",
        "# ---------------------\n",
        "# Energía comprometida por contrato (MWh por año)\n",
        "venta_potencial = 120000\n",
        "\n",
        "# Energía que realmente se estima generar, considerando condiciones reales (MWh por año)\n",
        "produccion_neta = 100000\n",
        "\n",
        "# Índice de interferencia aerodinámica (1 = ideal, >1 = pérdida por estelas entre turbinas)\n",
        "indice_interferencia = 1.15\n",
        "\n",
        "# Cálculo del riesgo\n",
        "riesgo = (venta_potencial / produccion_neta) * indice_interferencia\n",
        "\n",
        "# Impresión del resultado\n",
        "print(\"Análisis de Riesgo de Pérdida de Energía en Parque Eólico\")\n",
        "print(\"-----------------------------------------------------------\")\n",
        "print(\"Venta potencial de energía:\", venta_potencial, \"MWh\")\n",
        "print(\"Producción neta estimada:\", produccion_neta, \"MWh\")\n",
        "print(\"Índice de interferencia aerodinámica:\", indice_interferencia)\n",
        "print(\"Riesgo calculado:\", round(riesgo, 2))\n",
        "\n",
        "# Interpretación básica\n",
        "if riesgo < 1:\n",
        "    print(\"→ Riesgo bajo: la producción neta cubre la venta potencial.\")\n",
        "elif riesgo < 1.2:\n",
        "    print(\"→ Riesgo moderado: cuidado con condiciones variables.\")\n",
        "else:\n",
        "    print(\"→ Riesgo alto: posible incumplimiento de generación.\")\n"
      ]
    }
  ]
}
