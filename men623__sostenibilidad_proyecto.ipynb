{
  "nbformat": 4,
  "nbformat_minor": 5,
  "metadata": {
    "colab": {
      "provenance": [],
      "include_colab_link": true
    },
    "language_info": {
      "name": "python"
    },
    "kernelspec": {
      "name": "python3",
      "display_name": "Python 3"
    }
  },
  "cells": [
    {
      "cell_type": "markdown",
      "metadata": {
        "id": "view-in-github",
        "colab_type": "text"
      },
      "source": [
        "<a href=\"https://colab.research.google.com/github/jcmachicao/pucp__gobierno_sistemas_proyectos/blob/main/men623__sostenibilidad_proyecto.ipynb\" target=\"_parent\"><img src=\"https://colab.research.google.com/assets/colab-badge.svg\" alt=\"Open In Colab\"/></a>"
      ]
    },
    {
      "id": "11b51795",
      "cell_type": "markdown",
      "source": [
        "# Evaluación de Sostenibilidad Compuesta del Proyecto\n",
        "Este cuaderno evalúa cada componente del proyecto con base en una \"molécula de sostenibilidad\" que incluye dimensiones de ODS y sostenibilidad corporativa del operador."
      ],
      "metadata": {
        "id": "11b51795"
      }
    },
    {
      "cell_type": "code",
      "source": [
        "ejemplo_estructura_sostenibilidad = {\n",
        "  \"sostenibilidad\": {\n",
        "    \"ods\": {\n",
        "      \"alineamiento\": [\n",
        "        \"ODS 6 - Agua limpia\",\n",
        "        \"ODS 9 - Infraestructura resiliente\"\n",
        "      ]\n",
        "    },\n",
        "    \"corporativa\": {\n",
        "      \"viabilidad_financiera_operador\": \"alta\",\n",
        "      \"capacidad_tecnica_local\": \"media\",\n",
        "      \"adaptabilidad_mercado\": {\n",
        "        \"flexibilidad_tarifaria\": True,\n",
        "        \"posibilidad_venta_subproductos\": False\n",
        "      },\n",
        "      \"prioridades_corporativas\": [\n",
        "        \"reducción de costos de operación\",\n",
        "        \"automatización progresiva\",\n",
        "        \"formación técnica local\"\n",
        "      ]\n",
        "    }\n",
        "  }\n",
        "}"
      ],
      "metadata": {
        "id": "ExEtjSzn5TKK"
      },
      "id": "ExEtjSzn5TKK",
      "execution_count": 5,
      "outputs": []
    },
    {
      "id": "bf5d8d8e",
      "cell_type": "code",
      "metadata": {
        "id": "bf5d8d8e"
      },
      "execution_count": 1,
      "source": [
        "def evaluar_sostenibilidad_componente(componente):\n",
        "    sostenibilidad = componente.get(\"sostenibilidad\", {})\n",
        "\n",
        "    # --- ODS ---\n",
        "    ods = sostenibilidad.get(\"ods\", {}).get(\"alineamiento\", [])\n",
        "    puntaje_ods = min(len(ods) / 5.0, 1.0)  # Máx 5 ODS = puntaje 1.0\n",
        "\n",
        "    # --- Corporativa ---\n",
        "    corporativa = sostenibilidad.get(\"corporativa\", {})\n",
        "\n",
        "    viabilidad = corporativa.get(\"viabilidad_financiera_operador\", \"baja\")\n",
        "    capacidad = corporativa.get(\"capacidad_tecnica_local\", \"baja\")\n",
        "    adaptabilidad = corporativa.get(\"adaptabilidad_mercado\", {})\n",
        "\n",
        "    mapa_valor = {\"baja\": 0.0, \"media\": 0.5, \"alta\": 1.0}\n",
        "    puntaje_viabilidad = mapa_valor.get(viabilidad, 0.0)\n",
        "    puntaje_capacidad = mapa_valor.get(capacidad, 0.0)\n",
        "\n",
        "    puntaje_adaptabilidad = sum(1 for v in adaptabilidad.values() if v) * 0.25\n",
        "    puntaje_adaptabilidad = min(puntaje_adaptabilidad, 0.5)\n",
        "\n",
        "    puntaje_corporativo = (puntaje_viabilidad + puntaje_capacidad + puntaje_adaptabilidad) / 3\n",
        "\n",
        "    indice_integrado = round((puntaje_ods + puntaje_corporativo) / 2, 2)\n",
        "\n",
        "    return {\n",
        "        \"nombre\": componente.get(\"nombre\", \"desconocido\"),\n",
        "        \"puntaje_ods\": round(puntaje_ods, 2),\n",
        "        \"puntaje_corporativo\": round(puntaje_corporativo, 2),\n",
        "        \"indice_sostenibilidad\": indice_integrado\n",
        "    }"
      ],
      "outputs": []
    },
    {
      "id": "126ef49e",
      "cell_type": "code",
      "metadata": {
        "id": "126ef49e"
      },
      "execution_count": 2,
      "source": [
        "proyecto = [\n",
        "    {\n",
        "        \"nombre\": \"obras_civiles\",\n",
        "        \"porcentaje\": 20,\n",
        "        \"sostenibilidad\": {\n",
        "            \"ods\": {\n",
        "                \"alineamiento\": [\"ODS 6\"]\n",
        "            },\n",
        "            \"corporativa\": {\n",
        "                \"viabilidad_financiera_operador\": \"alta\",\n",
        "                \"capacidad_tecnica_local\": \"alta\",\n",
        "                \"adaptabilidad_mercado\": {\n",
        "                    \"flexibilidad_tarifaria\": False,\n",
        "                    \"posibilidad_venta_subproductos\": False\n",
        "                }\n",
        "            }\n",
        "        }\n",
        "    },\n",
        "    {\n",
        "        \"nombre\": \"equipamiento_procesamiento\",\n",
        "        \"porcentaje\": 25,\n",
        "        \"sostenibilidad\": {\n",
        "            \"ods\": {\n",
        "                \"alineamiento\": [\"ODS 6\", \"ODS 9\"]\n",
        "            },\n",
        "            \"corporativa\": {\n",
        "                \"viabilidad_financiera_operador\": \"media\",\n",
        "                \"capacidad_tecnica_local\": \"media\",\n",
        "                \"adaptabilidad_mercado\": {\n",
        "                    \"flexibilidad_tarifaria\": True,\n",
        "                    \"posibilidad_venta_subproductos\": False\n",
        "                }\n",
        "            }\n",
        "        }\n",
        "    },\n",
        "    {\n",
        "        \"nombre\": \"instrumentacion\",\n",
        "        \"porcentaje\": 15,\n",
        "        \"sostenibilidad\": {\n",
        "            \"ods\": {\n",
        "                \"alineamiento\": []\n",
        "            },\n",
        "            \"corporativa\": {\n",
        "                \"viabilidad_financiera_operador\": \"baja\",\n",
        "                \"capacidad_tecnica_local\": \"baja\",\n",
        "                \"adaptabilidad_mercado\": {\n",
        "                    \"flexibilidad_tarifaria\": False,\n",
        "                    \"posibilidad_venta_subproductos\": False\n",
        "                }\n",
        "            }\n",
        "        }\n",
        "    }\n",
        "]"
      ],
      "outputs": []
    },
    {
      "id": "5baa29ff",
      "cell_type": "code",
      "metadata": {
        "colab": {
          "base_uri": "https://localhost:8080/"
        },
        "id": "5baa29ff",
        "outputId": "875b0ac0-5d8f-4d60-c8e3-30ed1baf2642"
      },
      "execution_count": 3,
      "source": [
        "resultados = [evaluar_sostenibilidad_componente(c) for c in proyecto]\n",
        "for r in resultados:\n",
        "    print(r)"
      ],
      "outputs": [
        {
          "output_type": "stream",
          "name": "stdout",
          "text": [
            "{'nombre': 'obras_civiles', 'puntaje_ods': 0.2, 'puntaje_corporativo': 0.67, 'indice_sostenibilidad': 0.43}\n",
            "{'nombre': 'equipamiento_procesamiento', 'puntaje_ods': 0.4, 'puntaje_corporativo': 0.42, 'indice_sostenibilidad': 0.41}\n",
            "{'nombre': 'instrumentacion', 'puntaje_ods': 0.0, 'puntaje_corporativo': 0.0, 'indice_sostenibilidad': 0.0}\n"
          ]
        }
      ]
    }
  ]
}