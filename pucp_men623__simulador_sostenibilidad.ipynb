{
  "nbformat": 4,
  "nbformat_minor": 0,
  "metadata": {
    "colab": {
      "provenance": [],
      "authorship_tag": "ABX9TyOP9DtNEpIW+yM21V/pmXtO",
      "include_colab_link": true
    },
    "kernelspec": {
      "name": "python3",
      "display_name": "Python 3"
    },
    "language_info": {
      "name": "python"
    },
    "widgets": {
      "application/vnd.jupyter.widget-state+json": {
        "03f843296eb440c0a3381c4eba42989e": {
          "model_module": "@jupyter-widgets/controls",
          "model_name": "FloatSliderModel",
          "model_module_version": "1.5.0",
          "state": {
            "_dom_classes": [],
            "_model_module": "@jupyter-widgets/controls",
            "_model_module_version": "1.5.0",
            "_model_name": "FloatSliderModel",
            "_view_count": null,
            "_view_module": "@jupyter-widgets/controls",
            "_view_module_version": "1.5.0",
            "_view_name": "FloatSliderView",
            "continuous_update": true,
            "description": "Precio Energía",
            "description_tooltip": null,
            "disabled": false,
            "layout": "IPY_MODEL_53be5e08a5af4ea99794cc39c3902a7c",
            "max": 100,
            "min": 10,
            "orientation": "horizontal",
            "readout": true,
            "readout_format": ".2f",
            "step": 5,
            "style": "IPY_MODEL_7bf42c8761eb4f46af849d518cb52cea",
            "value": 50
          }
        },
        "53be5e08a5af4ea99794cc39c3902a7c": {
          "model_module": "@jupyter-widgets/base",
          "model_name": "LayoutModel",
          "model_module_version": "1.2.0",
          "state": {
            "_model_module": "@jupyter-widgets/base",
            "_model_module_version": "1.2.0",
            "_model_name": "LayoutModel",
            "_view_count": null,
            "_view_module": "@jupyter-widgets/base",
            "_view_module_version": "1.2.0",
            "_view_name": "LayoutView",
            "align_content": null,
            "align_items": null,
            "align_self": null,
            "border": null,
            "bottom": null,
            "display": null,
            "flex": null,
            "flex_flow": null,
            "grid_area": null,
            "grid_auto_columns": null,
            "grid_auto_flow": null,
            "grid_auto_rows": null,
            "grid_column": null,
            "grid_gap": null,
            "grid_row": null,
            "grid_template_areas": null,
            "grid_template_columns": null,
            "grid_template_rows": null,
            "height": null,
            "justify_content": null,
            "justify_items": null,
            "left": null,
            "margin": null,
            "max_height": null,
            "max_width": null,
            "min_height": null,
            "min_width": null,
            "object_fit": null,
            "object_position": null,
            "order": null,
            "overflow": null,
            "overflow_x": null,
            "overflow_y": null,
            "padding": null,
            "right": null,
            "top": null,
            "visibility": null,
            "width": "800px"
          }
        },
        "7bf42c8761eb4f46af849d518cb52cea": {
          "model_module": "@jupyter-widgets/controls",
          "model_name": "SliderStyleModel",
          "model_module_version": "1.5.0",
          "state": {
            "_model_module": "@jupyter-widgets/controls",
            "_model_module_version": "1.5.0",
            "_model_name": "SliderStyleModel",
            "_view_count": null,
            "_view_module": "@jupyter-widgets/base",
            "_view_module_version": "1.2.0",
            "_view_name": "StyleView",
            "description_width": "initial",
            "handle_color": null
          }
        },
        "9f1d8b9fc3ce4ca5bf318c9bf98ccc58": {
          "model_module": "@jupyter-widgets/controls",
          "model_name": "FloatSliderModel",
          "model_module_version": "1.5.0",
          "state": {
            "_dom_classes": [],
            "_model_module": "@jupyter-widgets/controls",
            "_model_module_version": "1.5.0",
            "_model_name": "FloatSliderModel",
            "_view_count": null,
            "_view_module": "@jupyter-widgets/controls",
            "_view_module_version": "1.5.0",
            "_view_name": "FloatSliderView",
            "continuous_update": true,
            "description": "Tasa Interés",
            "description_tooltip": null,
            "disabled": false,
            "layout": "IPY_MODEL_53be5e08a5af4ea99794cc39c3902a7c",
            "max": 20,
            "min": 0,
            "orientation": "horizontal",
            "readout": true,
            "readout_format": ".2f",
            "step": 1,
            "style": "IPY_MODEL_5a97af26763c4f998ddbb15c7376fea4",
            "value": 5
          }
        },
        "5a97af26763c4f998ddbb15c7376fea4": {
          "model_module": "@jupyter-widgets/controls",
          "model_name": "SliderStyleModel",
          "model_module_version": "1.5.0",
          "state": {
            "_model_module": "@jupyter-widgets/controls",
            "_model_module_version": "1.5.0",
            "_model_name": "SliderStyleModel",
            "_view_count": null,
            "_view_module": "@jupyter-widgets/base",
            "_view_module_version": "1.2.0",
            "_view_name": "StyleView",
            "description_width": "initial",
            "handle_color": null
          }
        },
        "b21b0d51b0de47e494f76add7d62c9e3": {
          "model_module": "@jupyter-widgets/controls",
          "model_name": "FloatSliderModel",
          "model_module_version": "1.5.0",
          "state": {
            "_dom_classes": [],
            "_model_module": "@jupyter-widgets/controls",
            "_model_module_version": "1.5.0",
            "_model_name": "FloatSliderModel",
            "_view_count": null,
            "_view_module": "@jupyter-widgets/controls",
            "_view_module_version": "1.5.0",
            "_view_name": "FloatSliderView",
            "continuous_update": true,
            "description": "Complejidad",
            "description_tooltip": null,
            "disabled": false,
            "layout": "IPY_MODEL_53be5e08a5af4ea99794cc39c3902a7c",
            "max": 10,
            "min": 1,
            "orientation": "horizontal",
            "readout": true,
            "readout_format": ".2f",
            "step": 1,
            "style": "IPY_MODEL_5b2caea877b34f96a2d0d4928ebe6fb7",
            "value": 5
          }
        },
        "5b2caea877b34f96a2d0d4928ebe6fb7": {
          "model_module": "@jupyter-widgets/controls",
          "model_name": "SliderStyleModel",
          "model_module_version": "1.5.0",
          "state": {
            "_model_module": "@jupyter-widgets/controls",
            "_model_module_version": "1.5.0",
            "_model_name": "SliderStyleModel",
            "_view_count": null,
            "_view_module": "@jupyter-widgets/base",
            "_view_module_version": "1.2.0",
            "_view_name": "StyleView",
            "description_width": "initial",
            "handle_color": null
          }
        },
        "a49c1d83d8db4d998a3a8482ca91ed61": {
          "model_module": "@jupyter-widgets/controls",
          "model_name": "FloatSliderModel",
          "model_module_version": "1.5.0",
          "state": {
            "_dom_classes": [],
            "_model_module": "@jupyter-widgets/controls",
            "_model_module_version": "1.5.0",
            "_model_name": "FloatSliderModel",
            "_view_count": null,
            "_view_module": "@jupyter-widgets/controls",
            "_view_module_version": "1.5.0",
            "_view_name": "FloatSliderView",
            "continuous_update": true,
            "description": "Impacto Ambiental",
            "description_tooltip": null,
            "disabled": false,
            "layout": "IPY_MODEL_53be5e08a5af4ea99794cc39c3902a7c",
            "max": 10,
            "min": 0,
            "orientation": "horizontal",
            "readout": true,
            "readout_format": ".2f",
            "step": 1,
            "style": "IPY_MODEL_7abf9ad0951e4ebcaf8f91e409ab3cf6",
            "value": 5
          }
        },
        "7abf9ad0951e4ebcaf8f91e409ab3cf6": {
          "model_module": "@jupyter-widgets/controls",
          "model_name": "SliderStyleModel",
          "model_module_version": "1.5.0",
          "state": {
            "_model_module": "@jupyter-widgets/controls",
            "_model_module_version": "1.5.0",
            "_model_name": "SliderStyleModel",
            "_view_count": null,
            "_view_module": "@jupyter-widgets/base",
            "_view_module_version": "1.2.0",
            "_view_name": "StyleView",
            "description_width": "initial",
            "handle_color": null
          }
        },
        "288f36342ccf4676a866500cc65a41b9": {
          "model_module": "@jupyter-widgets/controls",
          "model_name": "FloatSliderModel",
          "model_module_version": "1.5.0",
          "state": {
            "_dom_classes": [],
            "_model_module": "@jupyter-widgets/controls",
            "_model_module_version": "1.5.0",
            "_model_name": "FloatSliderModel",
            "_view_count": null,
            "_view_module": "@jupyter-widgets/controls",
            "_view_module_version": "1.5.0",
            "_view_name": "FloatSliderView",
            "continuous_update": true,
            "description": "Impacto Social",
            "description_tooltip": null,
            "disabled": false,
            "layout": "IPY_MODEL_53be5e08a5af4ea99794cc39c3902a7c",
            "max": 10,
            "min": 0,
            "orientation": "horizontal",
            "readout": true,
            "readout_format": ".2f",
            "step": 1,
            "style": "IPY_MODEL_91fe9b946e334b88aebfcf7bf8358b0d",
            "value": 5
          }
        },
        "91fe9b946e334b88aebfcf7bf8358b0d": {
          "model_module": "@jupyter-widgets/controls",
          "model_name": "SliderStyleModel",
          "model_module_version": "1.5.0",
          "state": {
            "_model_module": "@jupyter-widgets/controls",
            "_model_module_version": "1.5.0",
            "_model_name": "SliderStyleModel",
            "_view_count": null,
            "_view_module": "@jupyter-widgets/base",
            "_view_module_version": "1.2.0",
            "_view_name": "StyleView",
            "description_width": "initial",
            "handle_color": null
          }
        },
        "68f4caff1bf14a64974be8fdb96921c4": {
          "model_module": "@jupyter-widgets/output",
          "model_name": "OutputModel",
          "model_module_version": "1.0.0",
          "state": {
            "_dom_classes": [],
            "_model_module": "@jupyter-widgets/output",
            "_model_module_version": "1.0.0",
            "_model_name": "OutputModel",
            "_view_count": null,
            "_view_module": "@jupyter-widgets/output",
            "_view_module_version": "1.0.0",
            "_view_name": "OutputView",
            "layout": "IPY_MODEL_56369d412aae45d9afb5372eefb88a3e",
            "msg_id": "",
            "outputs": [
              {
                "output_type": "display_data",
                "data": {
                  "text/plain": "<Figure size 800x500 with 1 Axes>",
                  "image/png": "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\n"
                },
                "metadata": {}
              }
            ]
          }
        },
        "56369d412aae45d9afb5372eefb88a3e": {
          "model_module": "@jupyter-widgets/base",
          "model_name": "LayoutModel",
          "model_module_version": "1.2.0",
          "state": {
            "_model_module": "@jupyter-widgets/base",
            "_model_module_version": "1.2.0",
            "_model_name": "LayoutModel",
            "_view_count": null,
            "_view_module": "@jupyter-widgets/base",
            "_view_module_version": "1.2.0",
            "_view_name": "LayoutView",
            "align_content": null,
            "align_items": null,
            "align_self": null,
            "border": null,
            "bottom": null,
            "display": null,
            "flex": null,
            "flex_flow": null,
            "grid_area": null,
            "grid_auto_columns": null,
            "grid_auto_flow": null,
            "grid_auto_rows": null,
            "grid_column": null,
            "grid_gap": null,
            "grid_row": null,
            "grid_template_areas": null,
            "grid_template_columns": null,
            "grid_template_rows": null,
            "height": null,
            "justify_content": null,
            "justify_items": null,
            "left": null,
            "margin": null,
            "max_height": null,
            "max_width": null,
            "min_height": null,
            "min_width": null,
            "object_fit": null,
            "object_position": null,
            "order": null,
            "overflow": null,
            "overflow_x": null,
            "overflow_y": null,
            "padding": null,
            "right": null,
            "top": null,
            "visibility": null,
            "width": null
          }
        }
      }
    }
  },
  "cells": [
    {
      "cell_type": "markdown",
      "metadata": {
        "id": "view-in-github",
        "colab_type": "text"
      },
      "source": [
        "<a href=\"https://colab.research.google.com/github/jcmachicao/pucp__gobierno_sistemas_proyectos/blob/main/pucp_men623__simulador_sostenibilidad.ipynb\" target=\"_parent\"><img src=\"https://colab.research.google.com/assets/colab-badge.svg\" alt=\"Open In Colab\"/></a>"
      ]
    },
    {
      "cell_type": "markdown",
      "source": [
        "# Simulador de Optimización de Parámetros para Modealamiento de Sostenibilidad\n",
        "José Carlos Machicao Valencia, MSc, Docente"
      ],
      "metadata": {
        "id": "upupl4vGKBUV"
      }
    },
    {
      "cell_type": "code",
      "execution_count": 1,
      "metadata": {
        "id": "hM9Z5vbDJ8rl"
      },
      "outputs": [],
      "source": [
        "import numpy as np\n",
        "import matplotlib.pyplot as plt\n",
        "import ipywidgets as widgets\n",
        "from IPython.display import display"
      ]
    },
    {
      "cell_type": "code",
      "source": [
        "# Función de viabilidad financiera (simplificada)\n",
        "def calcular_viabilidad(precio_energia, tasa_interes, complejidad, impacto_ambiental, impacto_social):\n",
        "    costo_base = 100\n",
        "    ingresos = precio_energia * 10\n",
        "    costos = costo_base * (1 + complejidad / 10) * (1 + tasa_interes / 100)\n",
        "\n",
        "    viabilidad_financiera = ingresos - costos\n",
        "    viabilidad_ambiental = 100 - impacto_ambiental * 10\n",
        "    viabilidad_social = 100 - impacto_social * 10\n",
        "\n",
        "    return viabilidad_financiera, viabilidad_ambiental, viabilidad_social"
      ],
      "metadata": {
        "id": "n_FiupC-J-Ti"
      },
      "execution_count": 2,
      "outputs": []
    },
    {
      "cell_type": "code",
      "source": [
        "# Sliders\n",
        "slider_layout = widgets.Layout(width='800px')\n",
        "style = {'description_width': 'initial'}\n",
        "precio_energia_slider = widgets.FloatSlider(min=10, max=100, step=5, value=50, description='Precio Energía', layout=slider_layout, style=style)\n",
        "tasa_interes_slider = widgets.FloatSlider(min=0, max=20, step=1, value=5, description='Tasa Interés', layout=slider_layout, style=style)\n",
        "complejidad_slider = widgets.FloatSlider(min=1, max=10, step=1, value=5, description='Complejidad', layout=slider_layout, style=style)\n",
        "impacto_ambiental_slider = widgets.FloatSlider(min=0, max=10, step=1, value=5, description='Impacto Ambiental', layout=slider_layout, style=style)\n",
        "impacto_social_slider = widgets.FloatSlider(min=0, max=10, step=1, value=5, description='Impacto Social', layout=slider_layout, style=style)"
      ],
      "metadata": {
        "id": "6RXGugXmJ-Lq"
      },
      "execution_count": 31,
      "outputs": []
    },
    {
      "cell_type": "code",
      "source": [
        "# Función para actualizar el gráfico\n",
        "def actualizar_grafico(precio_energia, tasa_interes, complejidad, impacto_ambiental, impacto_social):\n",
        "    viabilidad_fin, viabilidad_amb, viabilidad_soc = calcular_viabilidad(\n",
        "        precio_energia, tasa_interes, complejidad, impacto_ambiental, impacto_social)\n",
        "\n",
        "    categorias = ['Financiera', 'Ambiental', 'Social']\n",
        "    valores = [viabilidad_fin, viabilidad_amb, viabilidad_soc]\n",
        "\n",
        "    plt.figure(figsize=(8, 5))\n",
        "    plt.bar(categorias, valores, color=['blue', 'green', 'orange'])\n",
        "    plt.ylim(-50, 120)\n",
        "    plt.axhline(0, color='black', linestyle='--')\n",
        "    plt.title(\"Viabilidad del Proyecto\")\n",
        "    plt.ylabel(\"Nivel de Viabilidad\")\n",
        "    plt.show()"
      ],
      "metadata": {
        "id": "xFws0KpMJ-Iv"
      },
      "execution_count": 32,
      "outputs": []
    },
    {
      "cell_type": "code",
      "source": [
        "# Interfaz interactiva\n",
        "grafico_interactivo = widgets.interactive_output(actualizar_grafico, {\n",
        "    'precio_energia': precio_energia_slider,\n",
        "    'tasa_interes': tasa_interes_slider,\n",
        "    'complejidad': complejidad_slider,\n",
        "    'impacto_ambiental': impacto_ambiental_slider,\n",
        "    'impacto_social': impacto_social_slider\n",
        "})"
      ],
      "metadata": {
        "id": "MI0scsbGJ-HY"
      },
      "execution_count": 33,
      "outputs": []
    },
    {
      "cell_type": "code",
      "source": [
        "display(precio_energia_slider, tasa_interes_slider, complejidad_slider, impacto_ambiental_slider, impacto_social_slider, grafico_interactivo)"
      ],
      "metadata": {
        "colab": {
          "base_uri": "https://localhost:8080/",
          "height": 620,
          "referenced_widgets": [
            "03f843296eb440c0a3381c4eba42989e",
            "53be5e08a5af4ea99794cc39c3902a7c",
            "7bf42c8761eb4f46af849d518cb52cea",
            "9f1d8b9fc3ce4ca5bf318c9bf98ccc58",
            "5a97af26763c4f998ddbb15c7376fea4",
            "b21b0d51b0de47e494f76add7d62c9e3",
            "5b2caea877b34f96a2d0d4928ebe6fb7",
            "a49c1d83d8db4d998a3a8482ca91ed61",
            "7abf9ad0951e4ebcaf8f91e409ab3cf6",
            "288f36342ccf4676a866500cc65a41b9",
            "91fe9b946e334b88aebfcf7bf8358b0d",
            "68f4caff1bf14a64974be8fdb96921c4",
            "56369d412aae45d9afb5372eefb88a3e"
          ]
        },
        "id": "P-g01ddkJ-Eb",
        "outputId": "712621d3-9c17-46de-a3ec-c5cbfadb84f1"
      },
      "execution_count": 34,
      "outputs": [
        {
          "output_type": "display_data",
          "data": {
            "text/plain": [
              "FloatSlider(value=50.0, description='Precio Energía', layout=Layout(width='800px'), min=10.0, step=5.0, style=…"
            ],
            "application/vnd.jupyter.widget-view+json": {
              "version_major": 2,
              "version_minor": 0,
              "model_id": "03f843296eb440c0a3381c4eba42989e"
            }
          },
          "metadata": {}
        },
        {
          "output_type": "display_data",
          "data": {
            "text/plain": [
              "FloatSlider(value=5.0, description='Tasa Interés', layout=Layout(width='800px'), max=20.0, step=1.0, style=Sli…"
            ],
            "application/vnd.jupyter.widget-view+json": {
              "version_major": 2,
              "version_minor": 0,
              "model_id": "9f1d8b9fc3ce4ca5bf318c9bf98ccc58"
            }
          },
          "metadata": {}
        },
        {
          "output_type": "display_data",
          "data": {
            "text/plain": [
              "FloatSlider(value=5.0, description='Complejidad', layout=Layout(width='800px'), max=10.0, min=1.0, step=1.0, s…"
            ],
            "application/vnd.jupyter.widget-view+json": {
              "version_major": 2,
              "version_minor": 0,
              "model_id": "b21b0d51b0de47e494f76add7d62c9e3"
            }
          },
          "metadata": {}
        },
        {
          "output_type": "display_data",
          "data": {
            "text/plain": [
              "FloatSlider(value=5.0, description='Impacto Ambiental', layout=Layout(width='800px'), max=10.0, step=1.0, styl…"
            ],
            "application/vnd.jupyter.widget-view+json": {
              "version_major": 2,
              "version_minor": 0,
              "model_id": "a49c1d83d8db4d998a3a8482ca91ed61"
            }
          },
          "metadata": {}
        },
        {
          "output_type": "display_data",
          "data": {
            "text/plain": [
              "FloatSlider(value=5.0, description='Impacto Social', layout=Layout(width='800px'), max=10.0, step=1.0, style=S…"
            ],
            "application/vnd.jupyter.widget-view+json": {
              "version_major": 2,
              "version_minor": 0,
              "model_id": "288f36342ccf4676a866500cc65a41b9"
            }
          },
          "metadata": {}
        },
        {
          "output_type": "display_data",
          "data": {
            "text/plain": [
              "Output()"
            ],
            "application/vnd.jupyter.widget-view+json": {
              "version_major": 2,
              "version_minor": 0,
              "model_id": "68f4caff1bf14a64974be8fdb96921c4"
            }
          },
          "metadata": {}
        }
      ]
    },
    {
      "cell_type": "code",
      "source": [
        "\n",
        "\n",
        "\n",
        "\n",
        "\n",
        "\n",
        "\n",
        "\n",
        "\n",
        "\n",
        "\n",
        "\n"
      ],
      "metadata": {
        "id": "dEFIWuMzJ-B7"
      },
      "execution_count": null,
      "outputs": []
    }
  ]
}