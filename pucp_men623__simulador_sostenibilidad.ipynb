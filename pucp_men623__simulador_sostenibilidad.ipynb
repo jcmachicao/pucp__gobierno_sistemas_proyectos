{
  "nbformat": 4,
  "nbformat_minor": 0,
  "metadata": {
    "colab": {
      "provenance": [],
      "authorship_tag": "ABX9TyOP9DtNEpIW+yM21V/pmXtO",
      "include_colab_link": true
    },
    "kernelspec": {
      "name": "python3",
      "display_name": "Python 3"
    },
    "language_info": {
      "name": "python"
    },
    "widgets": {
      "application/vnd.jupyter.widget-state+json": {
        "66474caaeea14491ae149cd5e174dc84": {
          "model_module": "@jupyter-widgets/controls",
          "model_name": "FloatSliderModel",
          "model_module_version": "1.5.0",
          "state": {
            "_dom_classes": [],
            "_model_module": "@jupyter-widgets/controls",
            "_model_module_version": "1.5.0",
            "_model_name": "FloatSliderModel",
            "_view_count": null,
            "_view_module": "@jupyter-widgets/controls",
            "_view_module_version": "1.5.0",
            "_view_name": "FloatSliderView",
            "continuous_update": true,
            "description": "Precio Energía",
            "description_tooltip": null,
            "disabled": false,
            "layout": "IPY_MODEL_909d1c62ae7c482cac8cba255478b3b1",
            "max": 100,
            "min": 10,
            "orientation": "horizontal",
            "readout": true,
            "readout_format": ".2f",
            "step": 5,
            "style": "IPY_MODEL_1b8ec7a841cc4a27989907591501af49",
            "value": 20
          }
        },
        "909d1c62ae7c482cac8cba255478b3b1": {
          "model_module": "@jupyter-widgets/base",
          "model_name": "LayoutModel",
          "model_module_version": "1.2.0",
          "state": {
            "_model_module": "@jupyter-widgets/base",
            "_model_module_version": "1.2.0",
            "_model_name": "LayoutModel",
            "_view_count": null,
            "_view_module": "@jupyter-widgets/base",
            "_view_module_version": "1.2.0",
            "_view_name": "LayoutView",
            "align_content": null,
            "align_items": null,
            "align_self": null,
            "border": null,
            "bottom": null,
            "display": null,
            "flex": null,
            "flex_flow": null,
            "grid_area": null,
            "grid_auto_columns": null,
            "grid_auto_flow": null,
            "grid_auto_rows": null,
            "grid_column": null,
            "grid_gap": null,
            "grid_row": null,
            "grid_template_areas": null,
            "grid_template_columns": null,
            "grid_template_rows": null,
            "height": null,
            "justify_content": null,
            "justify_items": null,
            "left": null,
            "margin": null,
            "max_height": null,
            "max_width": null,
            "min_height": null,
            "min_width": null,
            "object_fit": null,
            "object_position": null,
            "order": null,
            "overflow": null,
            "overflow_x": null,
            "overflow_y": null,
            "padding": null,
            "right": null,
            "top": null,
            "visibility": null,
            "width": "800px"
          }
        },
        "1b8ec7a841cc4a27989907591501af49": {
          "model_module": "@jupyter-widgets/controls",
          "model_name": "SliderStyleModel",
          "model_module_version": "1.5.0",
          "state": {
            "_model_module": "@jupyter-widgets/controls",
            "_model_module_version": "1.5.0",
            "_model_name": "SliderStyleModel",
            "_view_count": null,
            "_view_module": "@jupyter-widgets/base",
            "_view_module_version": "1.2.0",
            "_view_name": "StyleView",
            "description_width": "initial",
            "handle_color": null
          }
        },
        "81272d41e87349798fbd9ce8e599a57b": {
          "model_module": "@jupyter-widgets/controls",
          "model_name": "FloatSliderModel",
          "model_module_version": "1.5.0",
          "state": {
            "_dom_classes": [],
            "_model_module": "@jupyter-widgets/controls",
            "_model_module_version": "1.5.0",
            "_model_name": "FloatSliderModel",
            "_view_count": null,
            "_view_module": "@jupyter-widgets/controls",
            "_view_module_version": "1.5.0",
            "_view_name": "FloatSliderView",
            "continuous_update": true,
            "description": "Tasa Interés",
            "description_tooltip": null,
            "disabled": false,
            "layout": "IPY_MODEL_909d1c62ae7c482cac8cba255478b3b1",
            "max": 20,
            "min": 0,
            "orientation": "horizontal",
            "readout": true,
            "readout_format": ".2f",
            "step": 1,
            "style": "IPY_MODEL_b2704429bfb1472a9756742b50d737ba",
            "value": 8
          }
        },
        "b2704429bfb1472a9756742b50d737ba": {
          "model_module": "@jupyter-widgets/controls",
          "model_name": "SliderStyleModel",
          "model_module_version": "1.5.0",
          "state": {
            "_model_module": "@jupyter-widgets/controls",
            "_model_module_version": "1.5.0",
            "_model_name": "SliderStyleModel",
            "_view_count": null,
            "_view_module": "@jupyter-widgets/base",
            "_view_module_version": "1.2.0",
            "_view_name": "StyleView",
            "description_width": "initial",
            "handle_color": null
          }
        },
        "ef865f6f828645fdb6b6dd8eedbe63fa": {
          "model_module": "@jupyter-widgets/controls",
          "model_name": "FloatSliderModel",
          "model_module_version": "1.5.0",
          "state": {
            "_dom_classes": [],
            "_model_module": "@jupyter-widgets/controls",
            "_model_module_version": "1.5.0",
            "_model_name": "FloatSliderModel",
            "_view_count": null,
            "_view_module": "@jupyter-widgets/controls",
            "_view_module_version": "1.5.0",
            "_view_name": "FloatSliderView",
            "continuous_update": true,
            "description": "Complejidad",
            "description_tooltip": null,
            "disabled": false,
            "layout": "IPY_MODEL_909d1c62ae7c482cac8cba255478b3b1",
            "max": 10,
            "min": 1,
            "orientation": "horizontal",
            "readout": true,
            "readout_format": ".2f",
            "step": 1,
            "style": "IPY_MODEL_cfbfd355ba424667991acf1ecf76657d",
            "value": 3
          }
        },
        "cfbfd355ba424667991acf1ecf76657d": {
          "model_module": "@jupyter-widgets/controls",
          "model_name": "SliderStyleModel",
          "model_module_version": "1.5.0",
          "state": {
            "_model_module": "@jupyter-widgets/controls",
            "_model_module_version": "1.5.0",
            "_model_name": "SliderStyleModel",
            "_view_count": null,
            "_view_module": "@jupyter-widgets/base",
            "_view_module_version": "1.2.0",
            "_view_name": "StyleView",
            "description_width": "initial",
            "handle_color": null
          }
        },
        "2f5ec6642b654bac860254dd07379137": {
          "model_module": "@jupyter-widgets/controls",
          "model_name": "FloatSliderModel",
          "model_module_version": "1.5.0",
          "state": {
            "_dom_classes": [],
            "_model_module": "@jupyter-widgets/controls",
            "_model_module_version": "1.5.0",
            "_model_name": "FloatSliderModel",
            "_view_count": null,
            "_view_module": "@jupyter-widgets/controls",
            "_view_module_version": "1.5.0",
            "_view_name": "FloatSliderView",
            "continuous_update": true,
            "description": "Impacto Ambiental",
            "description_tooltip": null,
            "disabled": false,
            "layout": "IPY_MODEL_909d1c62ae7c482cac8cba255478b3b1",
            "max": 10,
            "min": 0,
            "orientation": "horizontal",
            "readout": true,
            "readout_format": ".2f",
            "step": 1,
            "style": "IPY_MODEL_5799bfd9f30048319527900d78097d38",
            "value": 3
          }
        },
        "5799bfd9f30048319527900d78097d38": {
          "model_module": "@jupyter-widgets/controls",
          "model_name": "SliderStyleModel",
          "model_module_version": "1.5.0",
          "state": {
            "_model_module": "@jupyter-widgets/controls",
            "_model_module_version": "1.5.0",
            "_model_name": "SliderStyleModel",
            "_view_count": null,
            "_view_module": "@jupyter-widgets/base",
            "_view_module_version": "1.2.0",
            "_view_name": "StyleView",
            "description_width": "initial",
            "handle_color": null
          }
        },
        "466e320b3a094e29bd1ed255a7a18c25": {
          "model_module": "@jupyter-widgets/controls",
          "model_name": "FloatSliderModel",
          "model_module_version": "1.5.0",
          "state": {
            "_dom_classes": [],
            "_model_module": "@jupyter-widgets/controls",
            "_model_module_version": "1.5.0",
            "_model_name": "FloatSliderModel",
            "_view_count": null,
            "_view_module": "@jupyter-widgets/controls",
            "_view_module_version": "1.5.0",
            "_view_name": "FloatSliderView",
            "continuous_update": true,
            "description": "Impacto Social",
            "description_tooltip": null,
            "disabled": false,
            "layout": "IPY_MODEL_909d1c62ae7c482cac8cba255478b3b1",
            "max": 10,
            "min": 0,
            "orientation": "horizontal",
            "readout": true,
            "readout_format": ".2f",
            "step": 1,
            "style": "IPY_MODEL_8950083900594ba99d6208b109a53a67",
            "value": 6
          }
        },
        "8950083900594ba99d6208b109a53a67": {
          "model_module": "@jupyter-widgets/controls",
          "model_name": "SliderStyleModel",
          "model_module_version": "1.5.0",
          "state": {
            "_model_module": "@jupyter-widgets/controls",
            "_model_module_version": "1.5.0",
            "_model_name": "SliderStyleModel",
            "_view_count": null,
            "_view_module": "@jupyter-widgets/base",
            "_view_module_version": "1.2.0",
            "_view_name": "StyleView",
            "description_width": "initial",
            "handle_color": null
          }
        },
        "6c2d37bfe1b34b6f9028d159b8b2dd4d": {
          "model_module": "@jupyter-widgets/output",
          "model_name": "OutputModel",
          "model_module_version": "1.0.0",
          "state": {
            "_dom_classes": [],
            "_model_module": "@jupyter-widgets/output",
            "_model_module_version": "1.0.0",
            "_model_name": "OutputModel",
            "_view_count": null,
            "_view_module": "@jupyter-widgets/output",
            "_view_module_version": "1.0.0",
            "_view_name": "OutputView",
            "layout": "IPY_MODEL_ab0f5acb4a014c348b10fbf18f43c057",
            "msg_id": "",
            "outputs": [
              {
                "output_type": "display_data",
                "data": {
                  "text/plain": "<Figure size 800x500 with 1 Axes>",
                  "image/png": "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\n"
                },
                "metadata": {}
              }
            ]
          }
        },
        "ab0f5acb4a014c348b10fbf18f43c057": {
          "model_module": "@jupyter-widgets/base",
          "model_name": "LayoutModel",
          "model_module_version": "1.2.0",
          "state": {
            "_model_module": "@jupyter-widgets/base",
            "_model_module_version": "1.2.0",
            "_model_name": "LayoutModel",
            "_view_count": null,
            "_view_module": "@jupyter-widgets/base",
            "_view_module_version": "1.2.0",
            "_view_name": "LayoutView",
            "align_content": null,
            "align_items": null,
            "align_self": null,
            "border": null,
            "bottom": null,
            "display": null,
            "flex": null,
            "flex_flow": null,
            "grid_area": null,
            "grid_auto_columns": null,
            "grid_auto_flow": null,
            "grid_auto_rows": null,
            "grid_column": null,
            "grid_gap": null,
            "grid_row": null,
            "grid_template_areas": null,
            "grid_template_columns": null,
            "grid_template_rows": null,
            "height": null,
            "justify_content": null,
            "justify_items": null,
            "left": null,
            "margin": null,
            "max_height": null,
            "max_width": null,
            "min_height": null,
            "min_width": null,
            "object_fit": null,
            "object_position": null,
            "order": null,
            "overflow": null,
            "overflow_x": null,
            "overflow_y": null,
            "padding": null,
            "right": null,
            "top": null,
            "visibility": null,
            "width": null
          }
        }
      }
    }
  },
  "cells": [
    {
      "cell_type": "markdown",
      "metadata": {
        "id": "view-in-github",
        "colab_type": "text"
      },
      "source": [
        "<a href=\"https://colab.research.google.com/github/jcmachicao/pucp__gobierno_sistemas_proyectos/blob/main/pucp_men623__simulador_sostenibilidad.ipynb\" target=\"_parent\"><img src=\"https://colab.research.google.com/assets/colab-badge.svg\" alt=\"Open In Colab\"/></a>"
      ]
    },
    {
      "cell_type": "markdown",
      "source": [
        "# Simulador de Optimización de Parámetros para Modealamiento de Sostenibilidad\n",
        "José Carlos Machicao Valencia, MSc, Docente"
      ],
      "metadata": {
        "id": "upupl4vGKBUV"
      }
    },
    {
      "cell_type": "code",
      "execution_count": 1,
      "metadata": {
        "id": "hM9Z5vbDJ8rl"
      },
      "outputs": [],
      "source": [
        "import numpy as np\n",
        "import matplotlib.pyplot as plt\n",
        "import ipywidgets as widgets\n",
        "from IPython.display import display"
      ]
    },
    {
      "cell_type": "code",
      "source": [
        "# Función de viabilidad financiera (simplificada)\n",
        "def calcular_viabilidad(precio_energia, tasa_interes, complejidad, impacto_ambiental, impacto_social):\n",
        "    costo_base = 100\n",
        "    ingresos = precio_energia * 10\n",
        "    costos = costo_base * (1 + complejidad / 10) * (1 + tasa_interes / 100)\n",
        "\n",
        "    viabilidad_financiera = ingresos - costos\n",
        "    viabilidad_ambiental = 100 - impacto_ambiental * 10\n",
        "    viabilidad_social = 100 - impacto_social * 10\n",
        "\n",
        "    return viabilidad_financiera, viabilidad_ambiental, viabilidad_social"
      ],
      "metadata": {
        "id": "n_FiupC-J-Ti"
      },
      "execution_count": 2,
      "outputs": []
    },
    {
      "cell_type": "code",
      "source": [
        "# Sliders\n",
        "slider_layout = widgets.Layout(width='800px')\n",
        "style = {'description_width': 'initial'}\n",
        "precio_energia_slider = widgets.FloatSlider(min=10, max=100, step=5, value=50, description='Precio Energía', layout=slider_layout, style=style)\n",
        "tasa_interes_slider = widgets.FloatSlider(min=0, max=20, step=1, value=5, description='Tasa Interés', layout=slider_layout, style=style)\n",
        "complejidad_slider = widgets.FloatSlider(min=1, max=10, step=1, value=5, description='Complejidad', layout=slider_layout, style=style)\n",
        "impacto_ambiental_slider = widgets.FloatSlider(min=0, max=10, step=1, value=5, description='Impacto Ambiental', layout=slider_layout, style=style)\n",
        "impacto_social_slider = widgets.FloatSlider(min=0, max=10, step=1, value=5, description='Impacto Social', layout=slider_layout, style=style)"
      ],
      "metadata": {
        "id": "6RXGugXmJ-Lq"
      },
      "execution_count": 3,
      "outputs": []
    },
    {
      "cell_type": "code",
      "source": [
        "# Función para actualizar el gráfico\n",
        "def actualizar_grafico(precio_energia, tasa_interes, complejidad, impacto_ambiental, impacto_social):\n",
        "    viabilidad_fin, viabilidad_amb, viabilidad_soc = calcular_viabilidad(\n",
        "        precio_energia, tasa_interes, complejidad, impacto_ambiental, impacto_social)\n",
        "\n",
        "    categorias = ['Financiera', 'Ambiental', 'Social']\n",
        "    valores = [viabilidad_fin, viabilidad_amb, viabilidad_soc]\n",
        "\n",
        "    plt.figure(figsize=(8, 5))\n",
        "    plt.bar(categorias, valores, color=['blue', 'green', 'orange'])\n",
        "    plt.ylim(-50, 120)\n",
        "    plt.axhline(0, color='black', linestyle='--')\n",
        "    plt.title(\"Viabilidad del Proyecto\")\n",
        "    plt.ylabel(\"Nivel de Viabilidad\")\n",
        "    plt.show()"
      ],
      "metadata": {
        "id": "xFws0KpMJ-Iv"
      },
      "execution_count": 4,
      "outputs": []
    },
    {
      "cell_type": "code",
      "source": [
        "# Interfaz interactiva\n",
        "grafico_interactivo = widgets.interactive_output(actualizar_grafico, {\n",
        "    'precio_energia': precio_energia_slider,\n",
        "    'tasa_interes': tasa_interes_slider,\n",
        "    'complejidad': complejidad_slider,\n",
        "    'impacto_ambiental': impacto_ambiental_slider,\n",
        "    'impacto_social': impacto_social_slider\n",
        "})"
      ],
      "metadata": {
        "id": "MI0scsbGJ-HY"
      },
      "execution_count": 5,
      "outputs": []
    },
    {
      "cell_type": "code",
      "source": [
        "display(precio_energia_slider, tasa_interes_slider, complejidad_slider, impacto_ambiental_slider, impacto_social_slider, grafico_interactivo)"
      ],
      "metadata": {
        "colab": {
          "base_uri": "https://localhost:8080/",
          "height": 620,
          "referenced_widgets": [
            "66474caaeea14491ae149cd5e174dc84",
            "909d1c62ae7c482cac8cba255478b3b1",
            "1b8ec7a841cc4a27989907591501af49",
            "81272d41e87349798fbd9ce8e599a57b",
            "b2704429bfb1472a9756742b50d737ba",
            "ef865f6f828645fdb6b6dd8eedbe63fa",
            "cfbfd355ba424667991acf1ecf76657d",
            "2f5ec6642b654bac860254dd07379137",
            "5799bfd9f30048319527900d78097d38",
            "466e320b3a094e29bd1ed255a7a18c25",
            "8950083900594ba99d6208b109a53a67",
            "6c2d37bfe1b34b6f9028d159b8b2dd4d",
            "ab0f5acb4a014c348b10fbf18f43c057"
          ]
        },
        "id": "P-g01ddkJ-Eb",
        "outputId": "abbb1025-1a2d-493d-a7af-44932c954cc7"
      },
      "execution_count": 6,
      "outputs": [
        {
          "output_type": "display_data",
          "data": {
            "text/plain": [
              "FloatSlider(value=50.0, description='Precio Energía', layout=Layout(width='800px'), min=10.0, step=5.0, style=…"
            ],
            "application/vnd.jupyter.widget-view+json": {
              "version_major": 2,
              "version_minor": 0,
              "model_id": "66474caaeea14491ae149cd5e174dc84"
            }
          },
          "metadata": {}
        },
        {
          "output_type": "display_data",
          "data": {
            "text/plain": [
              "FloatSlider(value=5.0, description='Tasa Interés', layout=Layout(width='800px'), max=20.0, step=1.0, style=Sli…"
            ],
            "application/vnd.jupyter.widget-view+json": {
              "version_major": 2,
              "version_minor": 0,
              "model_id": "81272d41e87349798fbd9ce8e599a57b"
            }
          },
          "metadata": {}
        },
        {
          "output_type": "display_data",
          "data": {
            "text/plain": [
              "FloatSlider(value=5.0, description='Complejidad', layout=Layout(width='800px'), max=10.0, min=1.0, step=1.0, s…"
            ],
            "application/vnd.jupyter.widget-view+json": {
              "version_major": 2,
              "version_minor": 0,
              "model_id": "ef865f6f828645fdb6b6dd8eedbe63fa"
            }
          },
          "metadata": {}
        },
        {
          "output_type": "display_data",
          "data": {
            "text/plain": [
              "FloatSlider(value=5.0, description='Impacto Ambiental', layout=Layout(width='800px'), max=10.0, step=1.0, styl…"
            ],
            "application/vnd.jupyter.widget-view+json": {
              "version_major": 2,
              "version_minor": 0,
              "model_id": "2f5ec6642b654bac860254dd07379137"
            }
          },
          "metadata": {}
        },
        {
          "output_type": "display_data",
          "data": {
            "text/plain": [
              "FloatSlider(value=5.0, description='Impacto Social', layout=Layout(width='800px'), max=10.0, step=1.0, style=S…"
            ],
            "application/vnd.jupyter.widget-view+json": {
              "version_major": 2,
              "version_minor": 0,
              "model_id": "466e320b3a094e29bd1ed255a7a18c25"
            }
          },
          "metadata": {}
        },
        {
          "output_type": "display_data",
          "data": {
            "text/plain": [
              "Output()"
            ],
            "application/vnd.jupyter.widget-view+json": {
              "version_major": 2,
              "version_minor": 0,
              "model_id": "6c2d37bfe1b34b6f9028d159b8b2dd4d"
            }
          },
          "metadata": {}
        }
      ]
    },
    {
      "cell_type": "code",
      "source": [
        "\n",
        "\n",
        "\n",
        "\n",
        "\n",
        "\n",
        "\n",
        "\n",
        "\n",
        "\n",
        "\n",
        "\n"
      ],
      "metadata": {
        "id": "dEFIWuMzJ-B7"
      },
      "execution_count": null,
      "outputs": []
    }
  ]
}