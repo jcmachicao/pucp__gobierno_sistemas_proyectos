{
  "nbformat": 4,
  "nbformat_minor": 0,
  "metadata": {
    "colab": {
      "provenance": [],
      "mount_file_id": "1T8QKY7fjmSy2N_VUxK3IIP6ycGEbwkKY",
      "authorship_tag": "ABX9TyMjz3U8ZgHI21zwDEvoYXg5",
      "include_colab_link": true
    },
    "kernelspec": {
      "name": "python3",
      "display_name": "Python 3"
    },
    "language_info": {
      "name": "python"
    }
  },
  "cells": [
    {
      "cell_type": "markdown",
      "metadata": {
        "id": "view-in-github",
        "colab_type": "text"
      },
      "source": [
        "<a href=\"https://colab.research.google.com/github/jcmachicao/pucp__gobierno_sistemas_proyectos/blob/main/men623__modelamiento_alcance.ipynb\" target=\"_parent\"><img src=\"https://colab.research.google.com/assets/colab-badge.svg\" alt=\"Open In Colab\"/></a>"
      ]
    },
    {
      "cell_type": "code",
      "source": [
        "from openai import OpenAI\n",
        "import json\n",
        "import os"
      ],
      "metadata": {
        "id": "1nT9R_3Ep2Fm"
      },
      "execution_count": 6,
      "outputs": []
    },
    {
      "cell_type": "code",
      "source": [
        "from google.colab import userdata\n",
        "apik = userdata.get('DS_APIK')"
      ],
      "metadata": {
        "id": "y9k5iwsgp2uQ"
      },
      "execution_count": 1,
      "outputs": []
    },
    {
      "cell_type": "code",
      "execution_count": 5,
      "metadata": {
        "id": "IYPLsqFIzGhJ"
      },
      "outputs": [],
      "source": [
        "client = OpenAI(api_key=apik, base_url=\"https://api.deepseek.com\")\n",
        "\n",
        "def consulta_llm(prompt):\n",
        "  response = client.chat.completions.create(\n",
        "      model=\"deepseek-chat\",\n",
        "      messages=[\n",
        "          {\"role\": \"system\", \"content\": \"You are a helpful assistant\"},\n",
        "          {\"role\": \"user\", \"content\": \"Hello\"},\n",
        "      ],\n",
        "      stream=False\n",
        "  )\n",
        "  return response.choices[0].message.content"
      ]
    },
    {
      "cell_type": "code",
      "source": [
        "path_json_files = 'drive/My Drive/00 Codes/archivos_json/'\n",
        "os.listdir(path_json_files)"
      ],
      "metadata": {
        "colab": {
          "base_uri": "https://localhost:8080/"
        },
        "id": "kehpKpEq4uOs",
        "outputId": "8c0d242e-6bbb-4dc7-a32f-42d731602efa"
      },
      "execution_count": 18,
      "outputs": [
        {
          "output_type": "execute_result",
          "data": {
            "text/plain": [
              "['men623_system_format.json',\n",
              " 'men623_system_example.json',\n",
              " 'men623_challenges_example.json']"
            ]
          },
          "metadata": {},
          "execution_count": 18
        }
      ]
    },
    {
      "cell_type": "code",
      "source": [
        "formato_sistema = 'men623_system_format.json'\n",
        "with open(path_json_files + formato_sistema, 'r', encoding='utf-8') as file:\n",
        "  form_sistema_json = json.load(file)"
      ],
      "metadata": {
        "id": "scVj2nw9HnHZ"
      },
      "execution_count": 20,
      "outputs": []
    },
    {
      "cell_type": "code",
      "source": [
        "form_sistema_json"
      ],
      "metadata": {
        "colab": {
          "base_uri": "https://localhost:8080/"
        },
        "id": "Rri_evWzJMBS",
        "outputId": "03e287a0-a135-45a8-bd01-c4952e082f74"
      },
      "execution_count": 21,
      "outputs": [
        {
          "output_type": "execute_result",
          "data": {
            "text/plain": [
              "{'system_name': 'Name of the System',\n",
              " 'elements': [{'element_type': 'Type of Element (e.g., Department, Process, Resource)',\n",
              "   'element_name': 'Name of the Specific Element',\n",
              "   'description': \"Detailed description of the element's role and function within the system\",\n",
              "   'internal_functions': ['Function 1', 'Function 2']},\n",
              "  {'element_type': '...',\n",
              "   'element_name': '...',\n",
              "   'description': '...',\n",
              "   'internal_functions': ['...']}]}"
            ]
          },
          "metadata": {},
          "execution_count": 21
        }
      ]
    },
    {
      "cell_type": "code",
      "source": [
        "prompt_sistema = f\"\"\"\n",
        "      Usando el formato del sistema {form_sistema_json}, puedes generar un json similar para un sistema con los siguientes requerimientos:\n",
        "      * El contexto es un yacimiento de gas natural\n",
        "      * La altitud es a XXXX msnm\n",
        "      * ...\n",
        "      * ...\n",
        "      \"\"\""
      ],
      "metadata": {
        "id": "RIrM4QevJyJj"
      },
      "execution_count": 23,
      "outputs": []
    },
    {
      "cell_type": "code",
      "source": [],
      "metadata": {
        "id": "5hA9nA0sKZaw"
      },
      "execution_count": null,
      "outputs": []
    }
  ]
}