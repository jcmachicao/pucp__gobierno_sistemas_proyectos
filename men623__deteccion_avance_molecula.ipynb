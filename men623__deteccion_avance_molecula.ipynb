{
  "nbformat": 4,
  "nbformat_minor": 0,
  "metadata": {
    "colab": {
      "provenance": [],
      "authorship_tag": "ABX9TyOQ/S5jBAm9OyRhY8WgsJZc",
      "include_colab_link": true
    },
    "kernelspec": {
      "name": "python3",
      "display_name": "Python 3"
    },
    "language_info": {
      "name": "python"
    }
  },
  "cells": [
    {
      "cell_type": "markdown",
      "metadata": {
        "id": "view-in-github",
        "colab_type": "text"
      },
      "source": [
        "<a href=\"https://colab.research.google.com/github/jcmachicao/pucp__gobierno_sistemas_proyectos/blob/main/men623__deteccion_avance_molecula.ipynb\" target=\"_parent\"><img src=\"https://colab.research.google.com/assets/colab-badge.svg\" alt=\"Open In Colab\"/></a>"
      ]
    },
    {
      "cell_type": "markdown",
      "source": [
        "# Uso de molécula del proyecto para detección de avance"
      ],
      "metadata": {
        "id": "j42UALp1t7__"
      }
    },
    {
      "cell_type": "code",
      "source": [
        "import json\n",
        "import copy\n",
        "from collections import defaultdict"
      ],
      "metadata": {
        "id": "YCEMxsoHtcZI"
      },
      "execution_count": null,
      "outputs": []
    },
    {
      "cell_type": "code",
      "execution_count": null,
      "metadata": {
        "id": "1KEDOT_atVyM"
      },
      "outputs": [],
      "source": [
        "def actualizar_avance_proyecto(json_proyecto, json_reporte):\n",
        "    # Hacemos una copia del proyecto original para no modificarlo directamente\n",
        "    proyecto_actualizado = copy.deepcopy(json_proyecto)\n",
        "\n",
        "    # Inicializamos avances por componente\n",
        "    avance_por_componente = defaultdict(float)\n",
        "\n",
        "    # Sumamos los valores del reporte por componente\n",
        "    for entregable in json_reporte.get(\"entregables\", []):\n",
        "        componente = entregable.get(\"componente\")\n",
        "        valor = entregable.get(\"valor\", 0)\n",
        "        avance_por_componente[componente] += valor\n",
        "\n",
        "    # Actualizamos el proyecto con los avances encontrados\n",
        "    for componente, datos in proyecto_actualizado.get(\"componentes\", {}).items():\n",
        "        datos[\"avance\"] = avance_por_componente.get(componente, 0)\n",
        "\n",
        "    return proyecto_actualizado"
      ]
    },
    {
      "cell_type": "code",
      "source": [
        "json_proyecto = {\n",
        "    \"proyecto\": \"Planta de Tratamiento de Aguas\",\n",
        "    \"componentes\": {\n",
        "        \"obras_civiles\": {\"porcentaje\": 30},\n",
        "        \"equipamiento_procesamiento\": {\"porcentaje\": 25},\n",
        "        \"entrega\": {\"porcentaje\": 10}\n",
        "    }\n",
        "}\n",
        "\n",
        "json_reporte = {\n",
        "    \"reporte_fecha\": \"2025-06-03\",\n",
        "    \"entregables\": [\n",
        "        {\"componente\": \"obras_civiles\", \"descripcion\": \"Cimentación terminada\", \"valor\": 10},\n",
        "        {\"componente\": \"obras_civiles\", \"descripcion\": \"Estructura metálica instalada\", \"valor\": 15},\n",
        "        {\"componente\": \"equipamiento_procesamiento\", \"descripcion\": \"Tanque montado\", \"valor\": 5}\n",
        "    ]\n",
        "}"
      ],
      "metadata": {
        "id": "S2uIFCuHtm3W"
      },
      "execution_count": null,
      "outputs": []
    },
    {
      "cell_type": "code",
      "source": [
        "actualizado = actualizar_avance_proyecto(json_proyecto, json_reporte)\n",
        "print(json.dumps(actualizado, indent=2))"
      ],
      "metadata": {
        "colab": {
          "base_uri": "https://localhost:8080/"
        },
        "id": "ZV8qMxpstsOP",
        "outputId": "03c83340-80a9-42ea-bf74-fe0abf9559ee"
      },
      "execution_count": null,
      "outputs": [
        {
          "output_type": "stream",
          "name": "stdout",
          "text": [
            "{\n",
            "  \"proyecto\": \"Planta de Tratamiento de Aguas\",\n",
            "  \"componentes\": {\n",
            "    \"obras_civiles\": {\n",
            "      \"porcentaje\": 30,\n",
            "      \"avance\": 25.0\n",
            "    },\n",
            "    \"equipamiento_procesamiento\": {\n",
            "      \"porcentaje\": 25,\n",
            "      \"avance\": 5.0\n",
            "    },\n",
            "    \"entrega\": {\n",
            "      \"porcentaje\": 10,\n",
            "      \"avance\": 0\n",
            "    }\n",
            "  }\n",
            "}\n"
          ]
        }
      ]
    },
    {
      "cell_type": "markdown",
      "source": [
        "# Enfoque Agil (Agile Approach)"
      ],
      "metadata": {
        "id": "aw9SglxCAFcT"
      }
    },
    {
      "cell_type": "code",
      "source": [
        "{\n",
        "  \"backlog\": [\n",
        "    {\n",
        "      \"epica\": \"obras_civiles\",\n",
        "      \"historias\": [\n",
        "        {\n",
        "          \"id\": \"OC-1\",\n",
        "          \"descripcion\": \"Como ingeniero, quiero la cimentación construida para soportar la estructura.\",\n",
        "          \"tareas\": [\n",
        "            \"Excavación de terreno\",\n",
        "            \"Colocación de acero\",\n",
        "            \"Vaciado de concreto\",\n",
        "            \"Curado y desmolde\"\n",
        "          ],\n",
        "          \"estado\": \"pendiente\",\n",
        "          \"sprint\": 1\n",
        "        },\n",
        "        {\n",
        "          \"id\": \"OC-2\",\n",
        "          \"descripcion\": \"Como supervisor, quiero la estructura metálica montada para continuar con el equipamiento.\",\n",
        "          \"tareas\": [\n",
        "            \"Montaje de columnas\",\n",
        "            \"Instalación de vigas\",\n",
        "            \"Revisión de nivelación\"\n",
        "          ],\n",
        "          \"estado\": \"pendiente\",\n",
        "          \"sprint\": 2\n",
        "        }\n",
        "      ]\n",
        "    }\n",
        "  ]\n",
        "}\n"
      ],
      "metadata": {
        "id": "kQlkQYlbAEio"
      },
      "execution_count": null,
      "outputs": []
    },
    {
      "cell_type": "markdown",
      "source": [
        "# Enfoque OKR"
      ],
      "metadata": {
        "id": "X-yQZG9mAKYs"
      }
    },
    {
      "cell_type": "code",
      "source": [
        "{\n",
        "  \"okr\": {\n",
        "    \"objective\": \"Finalizar obras civiles de base en 3 semanas para habilitar montaje\",\n",
        "    \"key_results\": [\n",
        "      {\n",
        "        \"descripcion\": \"Completar cimentación estructural con inspección aprobada\",\n",
        "        \"medida\": \"Entregable OC-1 completado\",\n",
        "        \"estado\": \"en_progreso\"\n",
        "      },\n",
        "      {\n",
        "        \"descripcion\": \"Montar estructura metálica y dejar lista para equipamiento\",\n",
        "        \"medida\": \"Entregable OC-2 aprobado\",\n",
        "        \"estado\": \"pendiente\"\n",
        "      }\n",
        "    ]\n",
        "  }\n",
        "}\n"
      ],
      "metadata": {
        "colab": {
          "base_uri": "https://localhost:8080/"
        },
        "id": "_qQk6AgsAMFy",
        "outputId": "bc917547-0f2e-4070-ffc2-58304813fd11"
      },
      "execution_count": 10,
      "outputs": [
        {
          "output_type": "execute_result",
          "data": {
            "text/plain": [
              "{'okr': {'objective': 'Finalizar obras civiles de base en 3 semanas para habilitar montaje',\n",
              "  'key_results': [{'descripcion': 'Completar cimentación estructural con inspección aprobada',\n",
              "    'medida': 'Entregable OC-1 completado',\n",
              "    'estado': 'en_progreso'},\n",
              "   {'descripcion': 'Montar estructura metálica y dejar lista para equipamiento',\n",
              "    'medida': 'Entregable OC-2 aprobado',\n",
              "    'estado': 'pendiente'}]}}"
            ]
          },
          "metadata": {},
          "execution_count": 10
        }
      ]
    },
    {
      "cell_type": "code",
      "source": [
        "{\n",
        "  \"okr\": {\n",
        "    \"objective\": \"Habilitar infraestructura robusta y certificada para soportar operación continua de la planta durante al menos 10 años sin intervenciones mayores\",\n",
        "    \"key_results\": [\n",
        "      {\n",
        "        \"descripcion\": \"Cimentación estructural terminada con pruebas de carga aprobadas\",\n",
        "        \"medida\": \"Informe estructural validado por inspección externa\",\n",
        "        \"estado\": \"en_progreso\"\n",
        "      },\n",
        "      {\n",
        "        \"descripcion\": \"Estructura metálica montada con tolerancia de nivelación < 1 cm\",\n",
        "        \"medida\": \"Informe topográfico post-montaje\",\n",
        "        \"estado\": \"pendiente\"\n",
        "      },\n",
        "      {\n",
        "        \"descripcion\": \"Documentación técnica entregada y firmada por interventoría\",\n",
        "        \"medida\": \"Checklist firmado de entrega técnica\",\n",
        "        \"estado\": \"pendiente\"\n",
        "      }\n",
        "    ]\n",
        "  }\n",
        "}\n"
      ],
      "metadata": {
        "colab": {
          "base_uri": "https://localhost:8080/"
        },
        "id": "jf6XCzxvASPa",
        "outputId": "20d11d00-1b65-44b1-eea4-4aede3fce53b"
      },
      "execution_count": 11,
      "outputs": [
        {
          "output_type": "execute_result",
          "data": {
            "text/plain": [
              "{'okr': {'objective': 'Habilitar infraestructura robusta y certificada para soportar operación continua de la planta durante al menos 10 años sin intervenciones mayores',\n",
              "  'key_results': [{'descripcion': 'Cimentación estructural terminada con pruebas de carga aprobadas',\n",
              "    'medida': 'Informe estructural validado por inspección externa',\n",
              "    'estado': 'en_progreso'},\n",
              "   {'descripcion': 'Estructura metálica montada con tolerancia de nivelación < 1 cm',\n",
              "    'medida': 'Informe topográfico post-montaje',\n",
              "    'estado': 'pendiente'},\n",
              "   {'descripcion': 'Documentación técnica entregada y firmada por interventoría',\n",
              "    'medida': 'Checklist firmado de entrega técnica',\n",
              "    'estado': 'pendiente'}]}}"
            ]
          },
          "metadata": {},
          "execution_count": 11
        }
      ]
    }
  ]
}