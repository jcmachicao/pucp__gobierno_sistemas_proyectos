{
  "nbformat": 4,
  "nbformat_minor": 0,
  "metadata": {
    "colab": {
      "provenance": [],
      "authorship_tag": "ABX9TyMmT20hu/RirnL3XBMfFUCT",
      "include_colab_link": true
    },
    "kernelspec": {
      "name": "python3",
      "display_name": "Python 3"
    },
    "language_info": {
      "name": "python"
    }
  },
  "cells": [
    {
      "cell_type": "markdown",
      "metadata": {
        "id": "view-in-github",
        "colab_type": "text"
      },
      "source": [
        "<a href=\"https://colab.research.google.com/github/jcmachicao/pucp__gobierno_sistemas_proyectos/blob/main/men623__deteccion_avance_molecula.ipynb\" target=\"_parent\"><img src=\"https://colab.research.google.com/assets/colab-badge.svg\" alt=\"Open In Colab\"/></a>"
      ]
    },
    {
      "cell_type": "markdown",
      "source": [
        "# Uso de molécula del proyecto para detección de avance"
      ],
      "metadata": {
        "id": "j42UALp1t7__"
      }
    },
    {
      "cell_type": "code",
      "source": [
        "import json\n",
        "import copy\n",
        "from collections import defaultdict"
      ],
      "metadata": {
        "id": "YCEMxsoHtcZI"
      },
      "execution_count": 6,
      "outputs": []
    },
    {
      "cell_type": "code",
      "execution_count": 2,
      "metadata": {
        "id": "1KEDOT_atVyM"
      },
      "outputs": [],
      "source": [
        "def actualizar_avance_proyecto(json_proyecto, json_reporte):\n",
        "    # Hacemos una copia del proyecto original para no modificarlo directamente\n",
        "    proyecto_actualizado = copy.deepcopy(json_proyecto)\n",
        "\n",
        "    # Inicializamos avances por componente\n",
        "    avance_por_componente = defaultdict(float)\n",
        "\n",
        "    # Sumamos los valores del reporte por componente\n",
        "    for entregable in json_reporte.get(\"entregables\", []):\n",
        "        componente = entregable.get(\"componente\")\n",
        "        valor = entregable.get(\"valor\", 0)\n",
        "        avance_por_componente[componente] += valor\n",
        "\n",
        "    # Actualizamos el proyecto con los avances encontrados\n",
        "    for componente, datos in proyecto_actualizado.get(\"componentes\", {}).items():\n",
        "        datos[\"avance\"] = avance_por_componente.get(componente, 0)\n",
        "\n",
        "    return proyecto_actualizado"
      ]
    },
    {
      "cell_type": "code",
      "source": [
        "json_proyecto = {\n",
        "    \"proyecto\": \"Planta de Tratamiento de Aguas\",\n",
        "    \"componentes\": {\n",
        "        \"obras_civiles\": {\"porcentaje\": 30},\n",
        "        \"equipamiento_procesamiento\": {\"porcentaje\": 25},\n",
        "        \"entrega\": {\"porcentaje\": 10}\n",
        "    }\n",
        "}\n",
        "\n",
        "json_reporte = {\n",
        "    \"reporte_fecha\": \"2025-06-03\",\n",
        "    \"entregables\": [\n",
        "        {\"componente\": \"obras_civiles\", \"descripcion\": \"Cimentación terminada\", \"valor\": 10},\n",
        "        {\"componente\": \"obras_civiles\", \"descripcion\": \"Estructura metálica instalada\", \"valor\": 15},\n",
        "        {\"componente\": \"equipamiento_procesamiento\", \"descripcion\": \"Tanque montado\", \"valor\": 5}\n",
        "    ]\n",
        "}"
      ],
      "metadata": {
        "id": "S2uIFCuHtm3W"
      },
      "execution_count": 7,
      "outputs": []
    },
    {
      "cell_type": "code",
      "source": [
        "actualizado = actualizar_avance_proyecto(json_proyecto, json_reporte)\n",
        "print(json.dumps(actualizado, indent=2))"
      ],
      "metadata": {
        "colab": {
          "base_uri": "https://localhost:8080/"
        },
        "id": "ZV8qMxpstsOP",
        "outputId": "03c83340-80a9-42ea-bf74-fe0abf9559ee"
      },
      "execution_count": 9,
      "outputs": [
        {
          "output_type": "stream",
          "name": "stdout",
          "text": [
            "{\n",
            "  \"proyecto\": \"Planta de Tratamiento de Aguas\",\n",
            "  \"componentes\": {\n",
            "    \"obras_civiles\": {\n",
            "      \"porcentaje\": 30,\n",
            "      \"avance\": 25.0\n",
            "    },\n",
            "    \"equipamiento_procesamiento\": {\n",
            "      \"porcentaje\": 25,\n",
            "      \"avance\": 5.0\n",
            "    },\n",
            "    \"entrega\": {\n",
            "      \"porcentaje\": 10,\n",
            "      \"avance\": 0\n",
            "    }\n",
            "  }\n",
            "}\n"
          ]
        }
      ]
    }
  ]
}