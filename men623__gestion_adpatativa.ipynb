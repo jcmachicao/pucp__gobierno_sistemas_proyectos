{
  "nbformat": 4,
  "nbformat_minor": 0,
  "metadata": {
    "colab": {
      "provenance": [],
      "authorship_tag": "ABX9TyPXwe0AXupJLO/sh9RurppV",
      "include_colab_link": true
    },
    "kernelspec": {
      "name": "python3",
      "display_name": "Python 3"
    },
    "language_info": {
      "name": "python"
    }
  },
  "cells": [
    {
      "cell_type": "markdown",
      "metadata": {
        "id": "view-in-github",
        "colab_type": "text"
      },
      "source": [
        "<a href=\"https://colab.research.google.com/github/jcmachicao/pucp__gobierno_sistemas_proyectos/blob/main/men623__gestion_adpatativa.ipynb\" target=\"_parent\"><img src=\"https://colab.research.google.com/assets/colab-badge.svg\" alt=\"Open In Colab\"/></a>"
      ]
    },
    {
      "cell_type": "markdown",
      "source": [
        "# Introducción a la Gestión Adaptativa de Proyectos"
      ],
      "metadata": {
        "id": "07miviTHCvwE"
      }
    },
    {
      "cell_type": "markdown",
      "source": [
        "🎯 Supuestos básicos del proyecto:\n",
        "Beneficio objetivo fijo: 100 unidades (pueden representar valor económico, impacto, etc.).\n",
        "\n",
        "2 entregables: Entregable A y Entregable B.\n",
        "\n",
        "Cada enfoque medirá el progreso hacia ese beneficio, ajustando el alcance ligeramente si es necesario.\n",
        "\n",
        "🧠 Enfoque general del código:\n",
        "Creamos una clase base Proyecto, luego derivamos:\n",
        "\n",
        "ProyectoEVM – aplica el modelo de Valor Ganado.\n",
        "\n",
        "ProyectoAgile – mide progreso basado en iteraciones y entrega de valor.\n",
        "\n",
        "ProyectoOKR – mide el avance de los resultados clave.\n",
        "\n",
        "El código usa una estructura simplificada para mostrar comparativamente cómo cada enfoque trata beneficio, avance y flexibilidad del alcance."
      ],
      "metadata": {
        "id": "cFai2TaYCjQQ"
      }
    },
    {
      "cell_type": "markdown",
      "source": [
        "✅ Qué permite este enfoque:\n",
        "Comparar cómo cada enfoque mide el progreso.\n",
        "\n",
        "Simular ajustes en el alcance entregado mientras el beneficio objetivo se mantiene.\n",
        "\n",
        "Evaluar desempeño (coste-eficiencia en EVM, velocidad en Agile, alineación en OKR)."
      ],
      "metadata": {
        "id": "VQvFiv8yChFB"
      }
    },
    {
      "cell_type": "code",
      "source": [
        "class Proyecto:\n",
        "    def __init__(self, beneficio_total):\n",
        "        self.beneficio_total = beneficio_total\n",
        "        self.beneficio_obtenido = 0\n",
        "\n",
        "    def progreso(self):\n",
        "        return (self.beneficio_obtenido / self.beneficio_total) * 100"
      ],
      "metadata": {
        "id": "DtVqeaUZ_d6Q"
      },
      "execution_count": 1,
      "outputs": []
    },
    {
      "cell_type": "code",
      "source": [
        "class ProyectoEVM(Proyecto):\n",
        "    def __init__(self, beneficio_total, plan_valor):\n",
        "        super().__init__(beneficio_total)\n",
        "        self.plan_valor = plan_valor  # Planned Value (PV)\n",
        "        self.valor_ganado = 0         # Earned Value (EV)\n",
        "        self.costo_real = 0           # Actual Cost (AC)\n",
        "\n",
        "    def registrar_entregable(self, valor, costo):\n",
        "        self.valor_ganado += valor\n",
        "        self.costo_real += costo\n",
        "        self.beneficio_obtenido += valor\n",
        "\n",
        "    def resumen(self):\n",
        "        cpi = self.valor_ganado / self.costo_real if self.costo_real else 0\n",
        "        spi = self.valor_ganado / self.plan_valor if self.plan_valor else 0\n",
        "        return {\n",
        "            \"EV\": self.valor_ganado,\n",
        "            \"AC\": self.costo_real,\n",
        "            \"CPI\": round(cpi, 2),\n",
        "            \"SPI\": round(spi, 2),\n",
        "            \"Progreso %\": round(self.progreso(), 2)\n",
        "        }"
      ],
      "metadata": {
        "id": "SWs8bcMr_jx5"
      },
      "execution_count": 2,
      "outputs": []
    },
    {
      "cell_type": "code",
      "source": [
        "# EVM\n",
        "evm = ProyectoEVM(100, plan_valor=100)\n",
        "evm.registrar_entregable(valor=40, costo=35)\n",
        "print(\"EVM:\", evm.resumen())\n",
        "evm.registrar_entregable(valor=60, costo=65)\n",
        "print(\"EVM:\", evm.resumen())"
      ],
      "metadata": {
        "colab": {
          "base_uri": "https://localhost:8080/"
        },
        "id": "zOCWu_bI_w7m",
        "outputId": "bfae7e04-54c9-4715-b585-b7474a5a332a"
      },
      "execution_count": 4,
      "outputs": [
        {
          "output_type": "stream",
          "name": "stdout",
          "text": [
            "EVM: {'EV': 40, 'AC': 35, 'CPI': 1.14, 'SPI': 0.4, 'Progreso %': 40.0}\n",
            "EVM: {'EV': 100, 'AC': 100, 'CPI': 1.0, 'SPI': 1.0, 'Progreso %': 100.0}\n"
          ]
        }
      ]
    },
    {
      "cell_type": "code",
      "source": [
        "class ProyectoAgile(Proyecto):\n",
        "    def __init__(self, beneficio_total, sprints):\n",
        "        super().__init__(beneficio_total)\n",
        "        self.sprints = sprints\n",
        "        self.entregas = []\n",
        "\n",
        "    def registrar_sprint(self, valor_entregado):\n",
        "        self.entregas.append(valor_entregado)\n",
        "        self.beneficio_obtenido += valor_entregado\n",
        "\n",
        "    def resumen(self):\n",
        "        return {\n",
        "            \"Sprints completados\": len(self.entregas),\n",
        "            \"Valor entregado\": sum(self.entregas),\n",
        "            \"Progreso %\": round(self.progreso(), 2)\n",
        "        }"
      ],
      "metadata": {
        "id": "cKsTllJk_9or"
      },
      "execution_count": 5,
      "outputs": []
    },
    {
      "cell_type": "code",
      "source": [
        "# Agile\n",
        "agile = ProyectoAgile(100, sprints=2)\n",
        "agile.registrar_sprint(valor_entregado=50)\n",
        "agile.registrar_sprint(valor_entregado=50)\n",
        "print(\"Agile:\", agile.resumen())"
      ],
      "metadata": {
        "colab": {
          "base_uri": "https://localhost:8080/"
        },
        "id": "z8ZSfBC1__tt",
        "outputId": "4ac94531-71fd-4801-f204-afd711cb6e86"
      },
      "execution_count": 6,
      "outputs": [
        {
          "output_type": "stream",
          "name": "stdout",
          "text": [
            "Agile: {'Sprints completados': 2, 'Valor entregado': 100, 'Progreso %': 100.0}\n"
          ]
        }
      ]
    },
    {
      "cell_type": "code",
      "execution_count": 7,
      "metadata": {
        "id": "xkQmTxRb_WZj"
      },
      "outputs": [],
      "source": [
        "class ProyectoOKR(Proyecto):\n",
        "    def __init__(self, beneficio_total, krs):\n",
        "        super().__init__(beneficio_total)\n",
        "        self.krs = krs  # Diccionario con KR y su peso (% del beneficio total)\n",
        "        self.krs_estado = {kr: 0 for kr in krs}\n",
        "\n",
        "    def registrar_kr_avance(self, kr, avance):\n",
        "        if kr in self.krs:\n",
        "            peso = self.krs[kr]\n",
        "            self.krs_estado[kr] = avance\n",
        "            self.beneficio_obtenido = sum([\n",
        "                (self.krs[kr] * self.krs_estado[kr]) for kr in self.krs\n",
        "            ])\n",
        "\n",
        "    def resumen(self):\n",
        "        return {\n",
        "            \"KR completados\": self.krs_estado,\n",
        "            \"Progreso %\": round(self.progreso(), 2)\n",
        "        }"
      ]
    },
    {
      "cell_type": "code",
      "source": [
        "# OKR\n",
        "okr = ProyectoOKR(100, krs={\"KR1\": 0.6, \"KR2\": 0.4})\n",
        "okr.registrar_kr_avance(\"KR1\", 1.0)\n",
        "okr.registrar_kr_avance(\"KR2\", 0.5)\n",
        "print(\"OKR:\", okr.resumen())"
      ],
      "metadata": {
        "colab": {
          "base_uri": "https://localhost:8080/"
        },
        "id": "9Lbcr16r_vxa",
        "outputId": "a0854b21-db61-469e-eb74-0380844e8941"
      },
      "execution_count": 8,
      "outputs": [
        {
          "output_type": "stream",
          "name": "stdout",
          "text": [
            "OKR: {'KR completados': {'KR1': 1.0, 'KR2': 0.5}, 'Progreso %': 0.8}\n"
          ]
        }
      ]
    }
  ]
}