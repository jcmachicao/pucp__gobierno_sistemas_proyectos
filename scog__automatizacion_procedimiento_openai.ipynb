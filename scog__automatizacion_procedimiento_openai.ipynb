{
  "nbformat": 4,
  "nbformat_minor": 0,
  "metadata": {
    "colab": {
      "provenance": [],
      "authorship_tag": "ABX9TyMpb7b2I1+80ZGwUj0z0TKV",
      "include_colab_link": true
    },
    "kernelspec": {
      "name": "python3",
      "display_name": "Python 3"
    },
    "language_info": {
      "name": "python"
    }
  },
  "cells": [
    {
      "cell_type": "markdown",
      "metadata": {
        "id": "view-in-github",
        "colab_type": "text"
      },
      "source": [
        "<a href=\"https://colab.research.google.com/github/jcmachicao/pucp__gobierno_sistemas_proyectos/blob/main/scog__automatizacion_procedimiento_openai.ipynb\" target=\"_parent\"><img src=\"https://colab.research.google.com/assets/colab-badge.svg\" alt=\"Open In Colab\"/></a>"
      ]
    },
    {
      "cell_type": "markdown",
      "source": [
        "# Sisatema Cognitivo para Gestión de Proyectos"
      ],
      "metadata": {
        "id": "JCbKqyEgm-ag"
      }
    },
    {
      "cell_type": "markdown",
      "source": [
        "* input_json: dict -> Información estructurada del problema/proceso.\n",
        "* output_json_template: dict -> Estructura esperada del resultado.\n",
        "* instructivo: str -> Rol del sistema (define el comportamiento del LLM).\n",
        "* procedimiento: str -> Instrucción específica o prompt que guía la tarea.\n",
        "* return: dict -> JSON de salida generado por el LLM conforme al template.\n"
      ],
      "metadata": {
        "id": "x2R6oIYom0Zt"
      }
    },
    {
      "cell_type": "code",
      "source": [
        "import openai\n",
        "import json\n",
        "import os\n",
        "import pandas as pd"
      ],
      "metadata": {
        "id": "Z17F3ebznOJ6"
      },
      "execution_count": 5,
      "outputs": []
    },
    {
      "cell_type": "code",
      "source": [
        "from google.colab import userdata\n",
        "API_KEY = userdata.get('JCMV_OAIK')"
      ],
      "metadata": {
        "id": "0qzZO0AJsKf6"
      },
      "execution_count": 2,
      "outputs": []
    },
    {
      "cell_type": "code",
      "source": [
        "openai.Client(api_key=API_KEY)"
      ],
      "metadata": {
        "colab": {
          "base_uri": "https://localhost:8080/"
        },
        "id": "xDxM6HpnsQAO",
        "outputId": "fa00971c-ce14-4330-9e2f-8371c0dae584"
      },
      "execution_count": 3,
      "outputs": [
        {
          "output_type": "execute_result",
          "data": {
            "text/plain": [
              "<openai.OpenAI at 0x7cc8d5da30d0>"
            ]
          },
          "metadata": {},
          "execution_count": 3
        }
      ]
    },
    {
      "cell_type": "code",
      "source": [
        "from openai import OpenAI\n",
        "client = OpenAI(api_key=API_KEY)"
      ],
      "metadata": {
        "id": "nEJLd5gyseF0"
      },
      "execution_count": 4,
      "outputs": []
    },
    {
      "cell_type": "code",
      "execution_count": 20,
      "metadata": {
        "id": "AU3wG8E5WsQk"
      },
      "outputs": [],
      "source": [
        "def genera_output_json(input_json, output_json_template, instructivo, procedimiento):\n",
        "    # 1. Llamar al modelo (usando OpenAI por ejemplo)\n",
        "    respuesta = client.responses.create(\n",
        "        model=\"gpt-4o\",\n",
        "        instructions=instructivo,\n",
        "        input=f\"{procedimiento}\\n\\nInput JSON:\\n{input_json}\\n\\nOutput debe seguir esta estructura:\\n{output_json_template}\",\n",
        "        temperature=0.2\n",
        "    )\n",
        "\n",
        "    return respuesta"
      ]
    },
    {
      "cell_type": "code",
      "source": [
        "instructivo = \"\"\"\n",
        "\n",
        "  Eres un asistente experto en gestión de proyectos.\n",
        "  Tu tarea es generar estructuras claras, organizadas y útiles para planificar proyectos complejos.\n",
        "  En base al archivo JSON de entrada, y usando el archivo JSON de modelo de salida.\n",
        "\n",
        "\"\"\""
      ],
      "metadata": {
        "id": "jH_72rxPtwrj"
      },
      "execution_count": 13,
      "outputs": []
    },
    {
      "cell_type": "code",
      "source": [
        "procedimiento = \"\"\"\n",
        "\n",
        "  Genera una estructura de desglose de trabajo (WBS) para el proyecto descrito en el JSON.\n",
        "  Las etapas deben tener nombre, descripción, y una lista de subtareas.\n",
        "\n",
        "\"\"\""
      ],
      "metadata": {
        "id": "3pDCXApKug4N"
      },
      "execution_count": 14,
      "outputs": []
    },
    {
      "cell_type": "code",
      "source": [
        "proyecto_base = {\n",
        "  \"nombre_proyecto\": \"Construcción de casa\",\n",
        "  \"objetivo\": \"Diseñar y construir una vivienda unifamiliar\",\n",
        "  \"alcance\": \"Desde diseño arquitectónico hasta acabados\"\n",
        "}"
      ],
      "metadata": {
        "id": "6ox5x66vwGLN"
      },
      "execution_count": 15,
      "outputs": []
    },
    {
      "cell_type": "code",
      "source": [
        "modelo_etapas = {\n",
        "  \"etapas\": [\n",
        "    {\n",
        "      \"nombre\": \"\",\n",
        "      \"descripcion\": \"\",\n",
        "      \"subtareas\": [\"\"]\n",
        "    }\n",
        "  ]\n",
        "}"
      ],
      "metadata": {
        "id": "jTsHuq98wMrY"
      },
      "execution_count": 16,
      "outputs": []
    },
    {
      "cell_type": "code",
      "source": [
        "resultado = genera_output_json(\n",
        "    input_json=json.dumps(proyecto_base),\n",
        "    output_json_template=json.dumps(modelo_etapas),\n",
        "    instructivo=instructivo,\n",
        "    procedimiento=procedimiento\n",
        ")"
      ],
      "metadata": {
        "id": "XN8z722ZwP7f"
      },
      "execution_count": 22,
      "outputs": []
    },
    {
      "cell_type": "code",
      "source": [
        "print(resultado.output_text)"
      ],
      "metadata": {
        "colab": {
          "base_uri": "https://localhost:8080/"
        },
        "id": "-yBRy-9vx4gx",
        "outputId": "362c0b60-9a12-461d-c108-64c81238f506"
      },
      "execution_count": 41,
      "outputs": [
        {
          "output_type": "stream",
          "name": "stdout",
          "text": [
            "```json\n",
            "{\n",
            "  \"etapas\": [\n",
            "    {\n",
            "      \"nombre\": \"Planificación\",\n",
            "      \"descripcion\": \"Definir el alcance, presupuesto y cronograma del proyecto.\",\n",
            "      \"subtareas\": [\n",
            "        \"Reunir requisitos del cliente\",\n",
            "        \"Definir el presupuesto\",\n",
            "        \"Crear el cronograma del proyecto\",\n",
            "        \"Obtener permisos necesarios\"\n",
            "      ]\n",
            "    },\n",
            "    {\n",
            "      \"nombre\": \"Diseño Arquitectónico\",\n",
            "      \"descripcion\": \"Desarrollar los planos y diseños de la vivienda.\",\n",
            "      \"subtareas\": [\n",
            "        \"Crear bocetos preliminares\",\n",
            "        \"Desarrollar planos arquitectónicos\",\n",
            "        \"Revisar y aprobar diseños con el cliente\",\n",
            "        \"Obtener aprobaciones de diseño\"\n",
            "      ]\n",
            "    },\n",
            "    {\n",
            "      \"nombre\": \"Preparación del Sitio\",\n",
            "      \"descripcion\": \"Preparar el terreno para la construcción.\",\n",
            "      \"subtareas\": [\n",
            "        \"Limpiar el terreno\",\n",
            "        \"Realizar estudios de suelo\",\n",
            "        \"Nivelar el terreno\",\n",
            "        \"Instalar cercas de seguridad\"\n",
            "      ]\n",
            "    },\n",
            "    {\n",
            "      \"nombre\": \"Construcción de la Estructura\",\n",
            "      \"descripcion\": \"Construir la estructura principal de la vivienda.\",\n",
            "      \"subtareas\": [\n",
            "        \"Colocar cimientos\",\n",
            "        \"Levantar muros\",\n",
            "        \"Instalar techos\",\n",
            "        \"Colocar ventanas y puertas\"\n",
            "      ]\n",
            "    },\n",
            "    {\n",
            "      \"nombre\": \"Instalaciones\",\n",
            "      \"descripcion\": \"Instalar sistemas eléctricos, de plomería y HVAC.\",\n",
            "      \"subtareas\": [\n",
            "        \"Instalar sistema eléctrico\",\n",
            "        \"Instalar sistema de plomería\",\n",
            "        \"Instalar sistema HVAC\",\n",
            "        \"Realizar pruebas de instalaciones\"\n",
            "      ]\n",
            "    },\n",
            "    {\n",
            "      \"nombre\": \"Acabados\",\n",
            "      \"descripcion\": \"Realizar los acabados interiores y exteriores de la vivienda.\",\n",
            "      \"subtareas\": [\n",
            "        \"Pintar interiores y exteriores\",\n",
            "        \"Instalar pisos\",\n",
            "        \"Colocar accesorios de baño y cocina\",\n",
            "        \"Realizar limpieza final\"\n",
            "      ]\n",
            "    },\n",
            "    {\n",
            "      \"nombre\": \"Inspección y Entrega\",\n",
            "      \"descripcion\": \"Realizar inspecciones finales y entregar la vivienda al cliente.\",\n",
            "      \"subtareas\": [\n",
            "        \"Realizar inspección final\",\n",
            "        \"Corregir defectos identificados\",\n",
            "        \"Preparar documentación de entrega\",\n",
            "        \"Entregar la vivienda al cliente\"\n",
            "      ]\n",
            "    }\n",
            "  ]\n",
            "}\n",
            "```\n"
          ]
        }
      ]
    },
    {
      "cell_type": "markdown",
      "source": [
        "Siempre verificar el procedimiento en https://github.com/openai/openai-python"
      ],
      "metadata": {
        "id": "i7dBIxsRyU5A"
      }
    },
    {
      "cell_type": "code",
      "source": [],
      "metadata": {
        "id": "JYsBeO4-xouY"
      },
      "execution_count": null,
      "outputs": []
    }
  ]
}