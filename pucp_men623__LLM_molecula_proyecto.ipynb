{
 "cells": [
  {
   "cell_type": "code",
   "execution_count": 1,
   "id": "dc8cf358-0089-4a5c-9a16-60e2174cc031",
   "metadata": {},
   "outputs": [],
   "source": [
    "from openai import OpenAI\n",
    "client = OpenAI(api_key='your-api-key')"
   ]
  },
  {
   "cell_type": "code",
   "execution_count": 3,
   "id": "1c5f87d3-5a58-4a6c-8c97-edcadf04bb9a",
   "metadata": {},
   "outputs": [],
   "source": [
    "proyecto = {\n",
    "  \"project_name\": \"Proyecto Demo\",\n",
    "  \"scope\": \"Aplicativo demostrativo terminado\",\n",
    "  \"expected_benefit\": \"Mayor velocidad de procesamiento de permisos\",\n",
    "  \"deliverables\": [\n",
    "    {\n",
    "      \"id\": \"ent1\",\n",
    "      \"name\": \"Diseño del prototipo\",\n",
    "      \"duration_days\": 5,\n",
    "      \"quality_parameters\": {\n",
    "        \"completitud\": 0.8,\n",
    "        \"claridad\": 0.9,\n",
    "        \"viabilidad\": 0.7\n",
    "      },\n",
    "      \"dependencies\": []\n",
    "    },\n",
    "    {\n",
    "      \"id\": \"ent2\",\n",
    "      \"name\": \"Desarrollo del prototipo\",\n",
    "      \"duration_days\": 10,\n",
    "      \"quality_parameters\": {\n",
    "        \"completitud\": 0.6,\n",
    "        \"claridad\": 0.7,\n",
    "        \"viabilidad\": 0.85\n",
    "      },\n",
    "      \"dependencies\": [\"ent1\"]\n",
    "    }\n",
    "  ]\n",
    "}"
   ]
  },
  {
   "cell_type": "code",
   "execution_count": 5,
   "id": "92c42866-c4bb-4555-badb-f4530a3d54c3",
   "metadata": {},
   "outputs": [],
   "source": [
    "cronograma_template = {\n",
    "  \"cronograma\": [\n",
    "    {\n",
    "      \"entregable_id\": \"\",\n",
    "      \"nombre\": \"\",\n",
    "      \"inicio_relativo\": 0,\n",
    "      \"fin_relativo\": 0,\n",
    "      \"dependencias\": []\n",
    "    }\n",
    "  ]\n",
    "}"
   ]
  },
  {
   "cell_type": "code",
   "execution_count": null,
   "id": "9b4cea18-9d77-4233-bd95-4025a4444c3a",
   "metadata": {},
   "outputs": [],
   "source": [
    "def procesamiento_llm(formato_objetivo, json_molecular):\n",
    "    prompt = f\"\"\"\n",
    "    Aplica el formato definido en el siguiente JSON de estructura objetivo:\n",
    "    {formato_objetivo}\n",
    "\n",
    "    Al siguiente contenido de proyecto:\n",
    "    {json_molecular}\n",
    "\n",
    "    Y genera un nuevo JSON con los datos aplicados al formato.\n",
    "    \"\"\"\n",
    "    # Simulando una llamada al LLM\n",
    "\n",
    "    response = client.chat.completions.create(\n",
    "        model=\"gpt-3.5-turbo-16k\",\n",
    "        # model = \"chatgpt-4o-latest\"\n",
    "        messages = [\n",
    "            {\"role\": \"system\", \"content\": mensaje_sistema},\n",
    "            {\"role\": \"user\", \"content\": mensaje_usuario}\n",
    "        temperature=0.8,\n",
    "        max_tokens=300,\n",
    "        top_p=1,\n",
    "        frequency_penalty=0,\n",
    "        presence_penalty=0\n",
    "    )\n",
    "\n",
    "    respuesta = response['choices'][0].text\n",
    "    \n",
    "    return respuesta[\"JSON_cronograma_aplicado\"]"
   ]
  }
 ],
 "metadata": {
  "kernelspec": {
   "display_name": "Python [conda env:base] *",
   "language": "python",
   "name": "conda-base-py"
  },
  "language_info": {
   "codemirror_mode": {
    "name": "ipython",
    "version": 3
   },
   "file_extension": ".py",
   "mimetype": "text/x-python",
   "name": "python",
   "nbconvert_exporter": "python",
   "pygments_lexer": "ipython3",
   "version": "3.11.7"
  }
 },
 "nbformat": 4,
 "nbformat_minor": 5
}
